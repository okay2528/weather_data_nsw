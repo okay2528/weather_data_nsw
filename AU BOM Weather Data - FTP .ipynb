{
 "cells": [
  {
   "cell_type": "code",
   "execution_count": 1,
   "metadata": {},
   "outputs": [],
   "source": [
    "# !pip install requests\n",
    "# !pip install ftplib"
   ]
  },
  {
   "cell_type": "code",
   "execution_count": 1,
   "metadata": {},
   "outputs": [],
   "source": [
    "### import library\n",
    "import datetime\n",
    "import time\n",
    "from ftplib import FTP\n",
    "import pandas as pd\n",
    "import io\n",
    "import os"
   ]
  },
  {
   "cell_type": "code",
   "execution_count": 2,
   "metadata": {},
   "outputs": [],
   "source": [
    "username = 'anonymous'\n",
    "password = 'useremailaddress' "
   ]
  },
  {
   "cell_type": "code",
   "execution_count": 5,
   "metadata": {},
   "outputs": [
    {
     "name": "stdout",
     "output_type": "stream",
     "text": [
      "List of YYYY-MM dates between start and end time:\n",
      "['202302', '202303', '202304', '202305', '202306', '202307', '202308', '202309', '202310', '202311', '202312', '202401']\n"
     ]
    }
   ],
   "source": [
    "## Set start and end time, to filter last 12 months files\n",
    "today = datetime.datetime.now()\n",
    "\n",
    "starttime  = today.replace(day=1) - datetime.timedelta(days=365) ### last 12 month\n",
    "endtime = today.replace(day=1) - datetime.timedelta(days=1) ### last month\n",
    "\n",
    "# Generate list of YYYY-MM dates\n",
    "date_list = []\n",
    "current_datetime = starttime\n",
    "while current_datetime <= endtime:\n",
    "    date_list.append(current_datetime.strftime('%Y%m'))\n",
    "    current_datetime += datetime.timedelta(days=31)  # Add one month\n",
    "\n",
    "print(\"List of YYYY-MM dates between start and end time:\")\n",
    "print(date_list)"
   ]
  },
  {
   "cell_type": "code",
   "execution_count": 4,
   "metadata": {},
   "outputs": [],
   "source": [
    "# Connect to the FTP server to get list of location in NSW\n",
    "def get_observation_location(ftp_server, ftp_directory ):\n",
    "    with FTP(ftp_server) as ftp:\n",
    "        ftp.login(username, password)\n",
    "        ftp.cwd(ftp_directory)\n",
    "        \n",
    "        # Get list of directories in the current directory\n",
    "        observe_locations_list = ftp.nlst()\n",
    "        return observe_locations_list"
   ]
  },
  {
   "cell_type": "code",
   "execution_count": 6,
   "metadata": {},
   "outputs": [],
   "source": [
    "# Function to download files from FTP server\n",
    "def download_files_from_ftp(ftp_server, ftp_directory, local_directory, observe_location, date_list):\n",
    "      with FTP(ftp_server) as ftp:\n",
    "\n",
    "        ftp.login(username, password)\n",
    "        ftp_directory_location = ftp_directory +  observe_location + '/'\n",
    "        ftp.cwd(ftp_directory_location)\n",
    "        filenames = [f\"{observe_location}-{date}\" for date in date_list ]\n",
    "                    \n",
    "        for filename in filenames:\n",
    "            remote_filepath = f\"{filename}.csv\"\n",
    "            local_filepath = f\"{local_directory}/{filename}.csv\"\n",
    "\n",
    "            try:\n",
    "                with open(local_filepath, \"wb\") as local_file:\n",
    "                    ftp.retrbinary(f\"RETR {remote_filepath}\", local_file.write)   \n",
    "                    print(f\"File '{remote_filepath}' downloaded to '{local_filepath}'\")\n",
    "\n",
    "            except Exception as e:\n",
    "                print(f\"Error downloading file '{remote_filepath}': {e}\")\n"
   ]
  },
  {
   "cell_type": "code",
   "execution_count": 10,
   "metadata": {},
   "outputs": [
    {
     "name": "stdout",
     "output_type": "stream",
     "text": [
      "File 'badgerys_creek-202302.csv' downloaded to 'C:/Users/Windows/Documents/2.Project/5.Weather/1.Data Set/badgerys_creek-202302.csv'\n",
      "File 'badgerys_creek-202303.csv' downloaded to 'C:/Users/Windows/Documents/2.Project/5.Weather/1.Data Set/badgerys_creek-202303.csv'\n",
      "File 'badgerys_creek-202304.csv' downloaded to 'C:/Users/Windows/Documents/2.Project/5.Weather/1.Data Set/badgerys_creek-202304.csv'\n",
      "File 'badgerys_creek-202305.csv' downloaded to 'C:/Users/Windows/Documents/2.Project/5.Weather/1.Data Set/badgerys_creek-202305.csv'\n",
      "File 'badgerys_creek-202306.csv' downloaded to 'C:/Users/Windows/Documents/2.Project/5.Weather/1.Data Set/badgerys_creek-202306.csv'\n",
      "File 'badgerys_creek-202307.csv' downloaded to 'C:/Users/Windows/Documents/2.Project/5.Weather/1.Data Set/badgerys_creek-202307.csv'\n",
      "File 'badgerys_creek-202308.csv' downloaded to 'C:/Users/Windows/Documents/2.Project/5.Weather/1.Data Set/badgerys_creek-202308.csv'\n",
      "File 'badgerys_creek-202309.csv' downloaded to 'C:/Users/Windows/Documents/2.Project/5.Weather/1.Data Set/badgerys_creek-202309.csv'\n",
      "File 'badgerys_creek-202310.csv' downloaded to 'C:/Users/Windows/Documents/2.Project/5.Weather/1.Data Set/badgerys_creek-202310.csv'\n",
      "File 'badgerys_creek-202311.csv' downloaded to 'C:/Users/Windows/Documents/2.Project/5.Weather/1.Data Set/badgerys_creek-202311.csv'\n",
      "File 'badgerys_creek-202312.csv' downloaded to 'C:/Users/Windows/Documents/2.Project/5.Weather/1.Data Set/badgerys_creek-202312.csv'\n",
      "File 'badgerys_creek-202401.csv' downloaded to 'C:/Users/Windows/Documents/2.Project/5.Weather/1.Data Set/badgerys_creek-202401.csv'\n"
     ]
    }
   ],
   "source": [
    "# Define FTP server details\n",
    "ftp_server = \"ftp.bom.gov.au\"\n",
    "ftp_directory = \"/anon/gen/clim_data/IDCKWCDEA0/tables/nsw/\"\n",
    "\n",
    "# Define local directory to save files\n",
    "local_directory = \"C:/Users/Windows/Documents/2.Project/5.Weather/1.Data Set\"\n",
    "\n",
    "# Get observation locations from FTP server\n",
    "observe_locations = get_observation_location(ftp_server, ftp_directory)\n",
    "\n",
    "# Download files from FTP server\n",
    "for observe_location in observe_locations:\n",
    "\n",
    "    with FTP(ftp_server) as ftp:\n",
    "        ftp.login()\n",
    "        download_files_from_ftp(ftp_server, ftp_directory, local_directory, observe_location, date_list)\n",
    "        time.sleep(20)\n",
    "\n"
   ]
  },
  {
   "cell_type": "code",
   "execution_count": 12,
   "metadata": {},
   "outputs": [
    {
     "data": {
      "text/plain": [
       "48.68333333333333"
      ]
     },
     "execution_count": 12,
     "metadata": {},
     "output_type": "execute_result"
    }
   ],
   "source": [
    "23*127/60"
   ]
  }
 ],
 "metadata": {
  "kernelspec": {
   "display_name": "datascience",
   "language": "python",
   "name": "python3"
  },
  "language_info": {
   "codemirror_mode": {
    "name": "ipython",
    "version": 3
   },
   "file_extension": ".py",
   "mimetype": "text/x-python",
   "name": "python",
   "nbconvert_exporter": "python",
   "pygments_lexer": "ipython3",
   "version": "3.11.7"
  }
 },
 "nbformat": 4,
 "nbformat_minor": 2
}
